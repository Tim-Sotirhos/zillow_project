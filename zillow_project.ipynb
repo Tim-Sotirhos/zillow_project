{
 "cells": [
  {
   "cell_type": "markdown",
   "metadata": {},
   "source": [
    "# Zillow Project"
   ]
  },
  {
   "cell_type": "code",
   "execution_count": 6,
   "metadata": {},
   "outputs": [],
   "source": [
    "import pandas as pd \n",
    "import numpy as np \n",
    "import seaborn as sns\n",
    "from scipy import stats\n",
    "from statsmodels.formula.api import ols\n",
    "from sklearn.linear_model import LinearRegression\n",
    "from sklearn.metrics import mean_squared_error, r2_score, explained_variance_score\n",
    "from sklearn.feature_selection import f_regression\n",
    "from math import sqrt\n",
    "import matplotlib.pyplot as plt \n",
    "import warnings\n",
    "warnings.filterwarnings('ignore')\n",
    "\n",
    "import env\n",
    "import acquire\n",
    "import features\n",
    "import evaluate"
   ]
  },
  {
   "cell_type": "markdown",
   "metadata": {},
   "source": [
    "## Acquistion"
   ]
  },
  {
   "cell_type": "code",
   "execution_count": 5,
   "metadata": {},
   "outputs": [],
   "source": [
    "df = acquire.wrangle_zillow()"
   ]
  },
  {
   "cell_type": "markdown",
   "metadata": {},
   "source": [
    "## Explore"
   ]
  },
  {
   "cell_type": "code",
   "execution_count": 8,
   "metadata": {},
   "outputs": [
    {
     "data": {
      "text/plain": [
       "(14892, 8)"
      ]
     },
     "execution_count": 8,
     "metadata": {},
     "output_type": "execute_result"
    }
   ],
   "source": [
    "df.shape"
   ]
  },
  {
   "cell_type": "code",
   "execution_count": 10,
   "metadata": {},
   "outputs": [
    {
     "name": "stdout",
     "output_type": "stream",
     "text": [
      "<class 'pandas.core.frame.DataFrame'>\n",
      "Int64Index: 14892 entries, 0 to 14892\n",
      "Data columns (total 8 columns):\n",
      "bedroom_count     14892 non-null float64\n",
      "bathroom_count    14892 non-null float64\n",
      "square_feet       14892 non-null float64\n",
      "property_value    14892 non-null float64\n",
      "tax_paid          14892 non-null float64\n",
      "tax_rate          14892 non-null float64\n",
      "property_type     14892 non-null object\n",
      "county_code       14892 non-null float64\n",
      "dtypes: float64(7), object(1)\n",
      "memory usage: 1.0+ MB\n"
     ]
    }
   ],
   "source": [
    "df.info()"
   ]
  },
  {
   "cell_type": "code",
   "execution_count": 11,
   "metadata": {},
   "outputs": [
    {
     "data": {
      "text/html": [
       "<div>\n",
       "<style scoped>\n",
       "    .dataframe tbody tr th:only-of-type {\n",
       "        vertical-align: middle;\n",
       "    }\n",
       "\n",
       "    .dataframe tbody tr th {\n",
       "        vertical-align: top;\n",
       "    }\n",
       "\n",
       "    .dataframe thead th {\n",
       "        text-align: right;\n",
       "    }\n",
       "</style>\n",
       "<table border=\"1\" class=\"dataframe\">\n",
       "  <thead>\n",
       "    <tr style=\"text-align: right;\">\n",
       "      <th></th>\n",
       "      <th>bedroom_count</th>\n",
       "      <th>bathroom_count</th>\n",
       "      <th>square_feet</th>\n",
       "      <th>property_value</th>\n",
       "      <th>tax_paid</th>\n",
       "      <th>tax_rate</th>\n",
       "      <th>county_code</th>\n",
       "    </tr>\n",
       "  </thead>\n",
       "  <tbody>\n",
       "    <tr>\n",
       "      <th>count</th>\n",
       "      <td>14892.000000</td>\n",
       "      <td>14892.000000</td>\n",
       "      <td>14892.000000</td>\n",
       "      <td>1.489200e+04</td>\n",
       "      <td>14892.000000</td>\n",
       "      <td>14892.000000</td>\n",
       "      <td>14892.000000</td>\n",
       "    </tr>\n",
       "    <tr>\n",
       "      <th>mean</th>\n",
       "      <td>3.316143</td>\n",
       "      <td>2.324302</td>\n",
       "      <td>1938.497045</td>\n",
       "      <td>5.396460e+05</td>\n",
       "      <td>6564.370992</td>\n",
       "      <td>1.339895</td>\n",
       "      <td>6049.448429</td>\n",
       "    </tr>\n",
       "    <tr>\n",
       "      <th>std</th>\n",
       "      <td>0.926831</td>\n",
       "      <td>1.014254</td>\n",
       "      <td>992.488089</td>\n",
       "      <td>7.290735e+05</td>\n",
       "      <td>8428.010576</td>\n",
       "      <td>0.678182</td>\n",
       "      <td>21.272489</td>\n",
       "    </tr>\n",
       "    <tr>\n",
       "      <th>min</th>\n",
       "      <td>1.000000</td>\n",
       "      <td>1.000000</td>\n",
       "      <td>300.000000</td>\n",
       "      <td>1.050400e+04</td>\n",
       "      <td>51.260000</td>\n",
       "      <td>0.078687</td>\n",
       "      <td>6037.000000</td>\n",
       "    </tr>\n",
       "    <tr>\n",
       "      <th>25%</th>\n",
       "      <td>3.000000</td>\n",
       "      <td>2.000000</td>\n",
       "      <td>1276.000000</td>\n",
       "      <td>1.991870e+05</td>\n",
       "      <td>2710.622500</td>\n",
       "      <td>1.159710</td>\n",
       "      <td>6037.000000</td>\n",
       "    </tr>\n",
       "    <tr>\n",
       "      <th>50%</th>\n",
       "      <td>3.000000</td>\n",
       "      <td>2.000000</td>\n",
       "      <td>1678.000000</td>\n",
       "      <td>3.847785e+05</td>\n",
       "      <td>4762.040000</td>\n",
       "      <td>1.230339</td>\n",
       "      <td>6037.000000</td>\n",
       "    </tr>\n",
       "    <tr>\n",
       "      <th>75%</th>\n",
       "      <td>4.000000</td>\n",
       "      <td>3.000000</td>\n",
       "      <td>2342.250000</td>\n",
       "      <td>6.435572e+05</td>\n",
       "      <td>7637.557500</td>\n",
       "      <td>1.368188</td>\n",
       "      <td>6059.000000</td>\n",
       "    </tr>\n",
       "    <tr>\n",
       "      <th>max</th>\n",
       "      <td>11.000000</td>\n",
       "      <td>11.000000</td>\n",
       "      <td>15450.000000</td>\n",
       "      <td>2.385837e+07</td>\n",
       "      <td>276797.830000</td>\n",
       "      <td>45.288365</td>\n",
       "      <td>6111.000000</td>\n",
       "    </tr>\n",
       "  </tbody>\n",
       "</table>\n",
       "</div>"
      ],
      "text/plain": [
       "       bedroom_count  bathroom_count   square_feet  property_value  \\\n",
       "count   14892.000000    14892.000000  14892.000000    1.489200e+04   \n",
       "mean        3.316143        2.324302   1938.497045    5.396460e+05   \n",
       "std         0.926831        1.014254    992.488089    7.290735e+05   \n",
       "min         1.000000        1.000000    300.000000    1.050400e+04   \n",
       "25%         3.000000        2.000000   1276.000000    1.991870e+05   \n",
       "50%         3.000000        2.000000   1678.000000    3.847785e+05   \n",
       "75%         4.000000        3.000000   2342.250000    6.435572e+05   \n",
       "max        11.000000       11.000000  15450.000000    2.385837e+07   \n",
       "\n",
       "            tax_paid      tax_rate   county_code  \n",
       "count   14892.000000  14892.000000  14892.000000  \n",
       "mean     6564.370992      1.339895   6049.448429  \n",
       "std      8428.010576      0.678182     21.272489  \n",
       "min        51.260000      0.078687   6037.000000  \n",
       "25%      2710.622500      1.159710   6037.000000  \n",
       "50%      4762.040000      1.230339   6037.000000  \n",
       "75%      7637.557500      1.368188   6059.000000  \n",
       "max    276797.830000     45.288365   6111.000000  "
      ]
     },
     "execution_count": 11,
     "metadata": {},
     "output_type": "execute_result"
    }
   ],
   "source": [
    "df.describe()"
   ]
  },
  {
   "cell_type": "markdown",
   "metadata": {},
   "source": [
    "## Distribution of tax rates by county"
   ]
  },
  {
   "cell_type": "markdown",
   "metadata": {},
   "source": [
    "- Identify the counties in the data and analyze the tax values"
   ]
  },
  {
   "cell_type": "code",
   "execution_count": 14,
   "metadata": {},
   "outputs": [
    {
     "data": {
      "text/html": [
       "<div>\n",
       "<style scoped>\n",
       "    .dataframe tbody tr th:only-of-type {\n",
       "        vertical-align: middle;\n",
       "    }\n",
       "\n",
       "    .dataframe tbody tr th {\n",
       "        vertical-align: top;\n",
       "    }\n",
       "\n",
       "    .dataframe thead th {\n",
       "        text-align: right;\n",
       "    }\n",
       "</style>\n",
       "<table border=\"1\" class=\"dataframe\">\n",
       "  <thead>\n",
       "    <tr style=\"text-align: right;\">\n",
       "      <th></th>\n",
       "      <th>bedroom_count</th>\n",
       "      <th>bathroom_count</th>\n",
       "      <th>square_feet</th>\n",
       "      <th>property_value</th>\n",
       "      <th>tax_paid</th>\n",
       "      <th>tax_rate</th>\n",
       "      <th>property_type</th>\n",
       "      <th>county_code</th>\n",
       "      <th>county_name</th>\n",
       "    </tr>\n",
       "  </thead>\n",
       "  <tbody>\n",
       "    <tr>\n",
       "      <th>0</th>\n",
       "      <td>3.0</td>\n",
       "      <td>2.0</td>\n",
       "      <td>1458.0</td>\n",
       "      <td>136104.0</td>\n",
       "      <td>2319.9</td>\n",
       "      <td>1.704505</td>\n",
       "      <td>Single Family Residential</td>\n",
       "      <td>6037.0</td>\n",
       "      <td>Los_Angeles_County</td>\n",
       "    </tr>\n",
       "  </tbody>\n",
       "</table>\n",
       "</div>"
      ],
      "text/plain": [
       "   bedroom_count  bathroom_count  square_feet  property_value  tax_paid  \\\n",
       "0            3.0             2.0       1458.0        136104.0    2319.9   \n",
       "\n",
       "   tax_rate              property_type  county_code         county_name  \n",
       "0  1.704505  Single Family Residential       6037.0  Los_Angeles_County  "
      ]
     },
     "execution_count": 14,
     "metadata": {},
     "output_type": "execute_result"
    }
   ],
   "source": [
    "# Create column with county name instead of relying on county code.\n",
    "\n",
    "df['county_name'] = df['county_code'].map({6037: \"Los_Angeles_County\", 6059: \"Orange_County\", 6111: \"Ventura_County\"})\n",
    "df.head(1)"
   ]
  },
  {
   "cell_type": "code",
   "execution_count": 17,
   "metadata": {},
   "outputs": [],
   "source": [
    "# Create a dataframe that contains vital county tax information\n",
    "\n",
    "df_county_tax = df[['county_code', 'county_name', 'tax_rate']]"
   ]
  },
  {
   "cell_type": "code",
   "execution_count": 18,
   "metadata": {},
   "outputs": [
    {
     "data": {
      "text/html": [
       "<div>\n",
       "<style scoped>\n",
       "    .dataframe tbody tr th:only-of-type {\n",
       "        vertical-align: middle;\n",
       "    }\n",
       "\n",
       "    .dataframe tbody tr th {\n",
       "        vertical-align: top;\n",
       "    }\n",
       "\n",
       "    .dataframe thead th {\n",
       "        text-align: right;\n",
       "    }\n",
       "</style>\n",
       "<table border=\"1\" class=\"dataframe\">\n",
       "  <thead>\n",
       "    <tr style=\"text-align: right;\">\n",
       "      <th></th>\n",
       "      <th>county_code</th>\n",
       "      <th>county_name</th>\n",
       "      <th>tax_rate</th>\n",
       "    </tr>\n",
       "  </thead>\n",
       "  <tbody>\n",
       "    <tr>\n",
       "      <th>0</th>\n",
       "      <td>6037.0</td>\n",
       "      <td>Los_Angeles_County</td>\n",
       "      <td>1.704505</td>\n",
       "    </tr>\n",
       "    <tr>\n",
       "      <th>1</th>\n",
       "      <td>6037.0</td>\n",
       "      <td>Los_Angeles_County</td>\n",
       "      <td>1.526962</td>\n",
       "    </tr>\n",
       "    <tr>\n",
       "      <th>2</th>\n",
       "      <td>6037.0</td>\n",
       "      <td>Los_Angeles_County</td>\n",
       "      <td>1.249705</td>\n",
       "    </tr>\n",
       "    <tr>\n",
       "      <th>3</th>\n",
       "      <td>6037.0</td>\n",
       "      <td>Los_Angeles_County</td>\n",
       "      <td>1.191477</td>\n",
       "    </tr>\n",
       "    <tr>\n",
       "      <th>4</th>\n",
       "      <td>6037.0</td>\n",
       "      <td>Los_Angeles_County</td>\n",
       "      <td>1.230421</td>\n",
       "    </tr>\n",
       "  </tbody>\n",
       "</table>\n",
       "</div>"
      ],
      "text/plain": [
       "   county_code         county_name  tax_rate\n",
       "0       6037.0  Los_Angeles_County  1.704505\n",
       "1       6037.0  Los_Angeles_County  1.526962\n",
       "2       6037.0  Los_Angeles_County  1.249705\n",
       "3       6037.0  Los_Angeles_County  1.191477\n",
       "4       6037.0  Los_Angeles_County  1.230421"
      ]
     },
     "execution_count": 18,
     "metadata": {},
     "output_type": "execute_result"
    }
   ],
   "source": [
    "df_county_tax.head(5)"
   ]
  },
  {
   "cell_type": "code",
   "execution_count": 23,
   "metadata": {},
   "outputs": [],
   "source": [
    "los_angles_tax = df_county_tax.tax_rate[df_county_tax.county_name == 'Los_Angles_County']"
   ]
  },
  {
   "cell_type": "code",
   "execution_count": 28,
   "metadata": {},
   "outputs": [],
   "source": [
    "orange_county = df.tax_rate[df.county_name == 'Orange_County']\n"
   ]
  },
  {
   "cell_type": "code",
   "execution_count": null,
   "metadata": {},
   "outputs": [],
   "source": []
  },
  {
   "cell_type": "raw",
   "metadata": {},
   "source": []
  },
  {
   "cell_type": "code",
   "execution_count": 32,
   "metadata": {},
   "outputs": [
    {
     "data": {
      "image/png": "[encoded data removed]",
      "text/plain": [
       "<Figure size 900x900 with 1 Axes>"
      ]
     },
     "metadata": {},
     "output_type": "display_data"
    }
   ],
   "source": [
    "la_county = df_county_tax[df_county_tax.county_name == \"Los_Angeles_County\"].tax_rate\n",
    "orange_county = df_county_tax[df_county_tax.county_name == 'Orange_County'].tax_rate\n",
    "ventura_county = df_county_tax[df_county_tax.county_name == 'Ventura_County'].tax_rate\n",
    "\n",
    "# len(la_county)\n",
    "# len(orange_county)\n",
    "# len(ventura_county)\n",
    "plt.figure(figsize = (6,6), dpi = 150, facecolor = \"r\")\n",
    "sns.distplot(la_county, label = \"Los Angeles\")\n",
    "sns.distplot(orange_county, label = \"Orange\")\n",
    "sns.distplot(ventura_county, label = \"Ventura\")\n",
    "plt.xlim(0, 2.5)\n",
    "plt.legend()\n",
    "plt.yticks([])\n",
    "plt.title(\"Tax Rate By County: California\")\n",
    "plt.xlabel('Tax Rate By County')\n",
    "plt.show()"
   ]
  },
  {
   "cell_type": "code",
   "execution_count": null,
   "metadata": {},
   "outputs": [],
   "source": []
  }
 ],
 "metadata": {
  "kernelspec": {
   "display_name": "Python 3",
   "language": "python",
   "name": "python3"
  },
  "language_info": {
   "codemirror_mode": {
    "name": "ipython",
    "version": 3
   },
   "file_extension": ".py",
   "mimetype": "text/x-python",
   "name": "python",
   "nbconvert_exporter": "python",
   "pygments_lexer": "ipython3",
   "version": "3.7.3"
  }
 },
 "nbformat": 4,
 "nbformat_minor": 2
}
