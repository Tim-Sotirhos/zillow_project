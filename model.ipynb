{
 "cells": [
  {
   "cell_type": "markdown",
   "metadata": {},
   "source": [
    "## Modeling Exercises"
   ]
  },
  {
   "cell_type": "markdown",
   "metadata": {},
   "source": [
    "1. run all your previous scipts that acuired, prepared, split, and scaled your data."
   ]
  },
  {
   "cell_type": "code",
   "execution_count": null,
   "metadata": {},
   "outputs": [],
   "source": [
    "import pandas as pd\n",
    "import numpy as np\n",
    "import matplotlib.pyplot as plt\n",
    "import seaborn as sns\n",
    "from sklearn.model_selection import train_test_split\n",
    "from sklearn.metrics import mean_squared_error,r2_score,explained_variance_score\n",
    "from sklearn.preprocessing import StandardScaler,MinMaxScaler\n",
    "from sklearn.linear_model import LinearRegression\n",
    "from math import sqrt\n",
    "import warnings\n",
    "warnings.filterwarnings(\"ignore\")\n",
    "import statsmodels.api as sm\n",
    "from statsmodels.sandbox.regression.predstd import wls_prediction_std\n",
    "\n",
    "\n",
    "#import our scripts that do data science workflow\n",
    "import wrangle\n",
    "import split_scale\n",
    "import evaluate\n",
    "import features"
   ]
  },
  {
   "cell_type": "markdown",
   "metadata": {},
   "source": [
    "1. Run all your previous scripts that acquired, prepared, split, and scaled your data."
   ]
  },
  {
   "cell_type": "code",
   "execution_count": null,
   "metadata": {},
   "outputs": [],
   "source": [
    "# Create dataframe of only monthly_charges, tenure, and total_charges\n",
    "\n",
    "df = df[['monthly_charges', 'tenure', 'total_charges']]\n",
    "df.info()"
   ]
  },
  {
   "cell_type": "code",
   "execution_count": null,
   "metadata": {},
   "outputs": [],
   "source": [
    "# Create data frames of X_train, x_test, y_train, y_test.\n",
    "\n",
    "train, test = split_scale.split_my_data(df)\n",
    "X_train = train[['monthly_charges','tenure']]\n",
    "y_train = train[['total_charges']]\n",
    "\n",
    "X_test = test[['monthly_charges', 'tenure']]\n",
    "y_test = test[['total_charges']]\n",
    "\n",
    "X_train, y_train, X_test, y_test"
   ]
  },
  {
   "cell_type": "code",
   "execution_count": null,
   "metadata": {},
   "outputs": [],
   "source": [
    "# Scale data using standard scaler\n",
    "\n",
    "scaler, train_scaled, test_scaled = split_scale.standard_scaler(df)\n",
    "scaler, train_scaled, test_scaled"
   ]
  },
  {
   "cell_type": "code",
   "execution_count": null,
   "metadata": {},
   "outputs": [],
   "source": [
    "# Create X_train_scaled, y_train_scaled, X_test_scaled, and y_test_scaled\n",
    "\n",
    "X_train_scaled = train_scaled[['monthly_charges','tenure']]\n",
    "y_train_scaled = train_scaled[['total_charges']]\n",
    "\n",
    "X_test_scaled = test_scaled[['monthly_charges', 'tenure']]\n",
    "y_test_scaled = test_scaled[['total_charges']]\n",
    "\n",
    "X_train_scaled, y_train_scaled, X_test_scaled, y_test_scaled"
   ]
  },
  {
   "cell_type": "markdown",
   "metadata": {},
   "source": [
    "2. Select your features using your features script"
   ]
  },
  {
   "cell_type": "markdown",
   "metadata": {},
   "source": [
    "3. Fit 2 different linear models to your data"
   ]
  },
  {
   "cell_type": "markdown",
   "metadata": {},
   "source": [
    "4. Evaluate the 2 models and your baseline."
   ]
  },
  {
   "cell_type": "markdown",
   "metadata": {},
   "source": [
    "5. Select the one that performed the best."
   ]
  },
  {
   "cell_type": "markdown",
   "metadata": {},
   "source": [
    "6. Apply to your test data"
   ]
  },
  {
   "cell_type": "markdown",
   "metadata": {},
   "source": [
    "7. Write a function that creates the model object, fits and predicts, given X_train, X_test, y_train, y_test"
   ]
  },
  {
   "cell_type": "code",
   "execution_count": null,
   "metadata": {},
   "outputs": [],
   "source": [
    "def modeling_function(X_train,X_test,y_train,y_test):\n",
    "    predictions_train=pd.DataFrame({'actual':y_train.taxvaluedollarcnt}).reset_index(drop=True)\n",
    "    predictions_test=pd.DataFrame({'actual':y_test.taxvaluedollarcnt}).reset_index(drop=True)\n",
    "    #model 1\n",
    "    lm1=LinearRegression()\n",
    "    lm1.fit(X_train,y_train)\n",
    "    lm1_predictions=lm1.predict(X_train)\n",
    "    predictions_train['lm1']=lm1_predictions\n",
    "\n",
    "    #model 2\n",
    "    lm2=LinearRegression()\n",
    "    lm2.fit(X_test,y_test)\n",
    "    lm2_predictions=lm2.predict(X_test)\n",
    "    predictions_test['lm2']=lm2_predictions\n",
    "\n",
    "    #model 3 - baseline -train\n",
    "    lm3_predictions = np.array([y_train.mean()[0]]*len(y_train))\n",
    "    predictions_train['baseline'] = lm3_predictions\n",
    "\n",
    "    #model 3 - baseline - test\n",
    "    lm4_predictions = np.array([y_test.mean()[0]]*len(y_test))\n",
    "    predictions_test['baseline'] = lm4_predictions"
   ]
  },
  {
   "cell_type": "markdown",
   "metadata": {},
   "source": [
    "8. Write a function, plot_residuals(x, y, dataframe) that takes the feature, the target, and the dataframe as input and returns a residual plot."
   ]
  },
  {
   "cell_type": "code",
   "execution_count": 3,
   "metadata": {},
   "outputs": [],
   "source": [
    "def plot_residuals(x, y):\n",
    "    '''\n",
    "    Plots the residuals of a model that uses x to predict y. Note that we don't\n",
    "    need to make any predictions ourselves here, seaborn will create the model\n",
    "    and predictions for us under the hood with the `residplot` function.\n",
    "    '''\n",
    "    return sns.residplot(x, y)"
   ]
  },
  {
   "cell_type": "markdown",
   "metadata": {},
   "source": [
    "9. Write a function, plot_regression(x, y) that takes a feature and a target and returns the datapoints, the regression line, and the confidence interval."
   ]
  },
  {
   "cell_type": "code",
   "execution_count": 2,
   "metadata": {},
   "outputs": [],
   "source": [
    "def plot_regression(x,y):\n",
    "    res = sm.OLS(y, x).fit()\n",
    "    prstd, iv_l, iv_u = wls_prediction_std(res)\n",
    "\n",
    "    fig, ax = plt.subplots(figsize=(8,6))\n",
    "\n",
    "    ax.plot(x, y, 'o', label=\"data\")\n",
    "    #ax.plot(x, y, 'b-', label=\"True\")\n",
    "    ax.plot(x, res.fittedvalues, 'r--.', label=\"OLS\")\n",
    "    ax.plot(x, iv_u, 'r--')\n",
    "    ax.plot(x, iv_l, 'r--')\n",
    "    ax.legend(loc='best');\n",
    "    plt.show()"
   ]
  }
 ],
 "metadata": {
  "kernelspec": {
   "display_name": "Python 3",
   "language": "python",
   "name": "python3"
  },
  "language_info": {
   "codemirror_mode": {
    "name": "ipython",
    "version": 3
   },
   "file_extension": ".py",
   "mimetype": "text/x-python",
   "name": "python",
   "nbconvert_exporter": "python",
   "pygments_lexer": "ipython3",
   "version": "3.7.3"
  }
 },
 "nbformat": 4,
 "nbformat_minor": 2
}
